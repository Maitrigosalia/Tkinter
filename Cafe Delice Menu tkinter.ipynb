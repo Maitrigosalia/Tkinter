{
 "cells": [
  {
   "cell_type": "code",
   "execution_count": 10,
   "id": "117c5cc4-4139-44c1-bcd0-6058a20f1dd7",
   "metadata": {},
   "outputs": [],
   "source": [
    "from tkinter import * \n",
    "root=Tk()\n",
    "root.title(\"Cafe Delice\")\n",
    "root.geometry(\"800x400\")\n",
    "top=Frame(root)\n",
    "top.pack(side=TOP)\n",
    "m=Frame(root)\n",
    "m.pack()\n",
    "lbl1=Label(top,font=(\"Times\",40,\"bold\"),text=\"Cafe Delice\",fg=\"white\",bg=\"blue\")\n",
    "lbl1.pack()\n",
    "\n",
    "Amritsari_Kulcha=StringVar()\n",
    "Paneer_Burji=StringVar()\n",
    "Pav_Bhaji_Chessy_Grill=StringVar()\n",
    "Belgian_Waffle=StringVar()\n",
    "Blueberry_Cheesecake=StringVar()\n",
    "Tiramissu=StringVar()\n",
    "\n",
    "Ak=Label(m,font=(\"Times\",15),text=\"Amritsari Kulcha\")\n",
    "Ak.grid(row=1,column=3)\n",
    "p=Label(m,font=(\"Times\",15),text=\"Rs.345\")\n",
    "p.grid(row=1,column=30)\n",
    "\n",
    "Pb=Label(m,font=(\"Times\",15),text=\"Paneer Burji\")\n",
    "Pb.grid(row=2,column=3)\n",
    "p=Label(m,font=(\"Times\",15),text=\"Rs.275\")\n",
    "p.grid(row=2,column=30)\n",
    "\n",
    "Cg=Label(m,font=(\"Times\",15),text=\"Pav Bhaji Cheesy Grill\")\n",
    "Cg.grid(row=3,column=3)\n",
    "p=Label(m,font=(\"Times\",15),text=\"Rs.250\")\n",
    "p.grid(row=3,column=30)\n",
    "\n",
    "Bw=Label(m,font=(\"Times\",15),text=\"Belgian Waffle\")\n",
    "Bw.grid(row=4,column=3)\n",
    "p=Label(m,font=(\"Times\",15),text=\"Rs.250\")\n",
    "p.grid(row=4,column=30)\n",
    "\n",
    "Bc=Label(m,font=(\"Times\",15),text=\"Blueberry Cheesecake\")\n",
    "Bc.grid(row=5,column=3)\n",
    "p=Label(m,font=(\"Times\",15),text=\"Rs.275\")\n",
    "p.grid(row=5,column=30)\n",
    "\n",
    "T=Label(m,font=(\"Times\",15),text=\"Tirammisu\")\n",
    "T.grid(row=6,column=3)\n",
    "p=Label(m,font=(\"Times\",15),text=\"Rs.275\")\n",
    "p.grid(row=6,column=30)\n",
    "\n",
    "root.mainloop()"
   ]
  },
  {
   "cell_type": "code",
   "execution_count": null,
   "id": "c1c3d149-552c-456d-bdf2-9d23f5eac411",
   "metadata": {},
   "outputs": [],
   "source": []
  },
  {
   "cell_type": "code",
   "execution_count": null,
   "id": "f2fe7641-2579-4c60-9416-23bebe64f632",
   "metadata": {},
   "outputs": [],
   "source": []
  }
 ],
 "metadata": {
  "kernelspec": {
   "display_name": "Python 3 (ipykernel)",
   "language": "python",
   "name": "python3"
  },
  "language_info": {
   "codemirror_mode": {
    "name": "ipython",
    "version": 3
   },
   "file_extension": ".py",
   "mimetype": "text/x-python",
   "name": "python",
   "nbconvert_exporter": "python",
   "pygments_lexer": "ipython3",
   "version": "3.12.4"
  }
 },
 "nbformat": 4,
 "nbformat_minor": 5
}
